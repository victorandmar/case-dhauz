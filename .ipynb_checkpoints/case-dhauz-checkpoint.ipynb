{
 "cells": [
  {
   "cell_type": "markdown",
   "metadata": {},
   "source": [
    "# Case técnico DHAUZ - Modelagem de cancelamentos\n",
    "Victor Andrade Martins"
   ]
  },
  {
   "cell_type": "markdown",
   "metadata": {},
   "source": [
    "**Briefing**: Você foi contratado pela DHAUZ como cientista de dados para analisar uma base de dados de clientes de uma rede de Hotéis e sua tarefa é investigar os dados em busca de insights que possam ajudar a empresa a evitar cancelamentos e também construir um modelo preditivo que possa antecipar esses cancelamentos, de modo que a empresa tenha tempo hábil para agir com ações de retenção."
   ]
  },
  {
   "cell_type": "markdown",
   "metadata": {},
   "source": [
    "Enquanto leem o estudo, incentivo a também darem uma olhada no app que desenvolvi para case: https://victorandmar-case-dhauz-app-dhauz-3n813c.streamlitapp.com"
   ]
  },
  {
   "cell_type": "code",
   "execution_count": null,
   "metadata": {},
   "outputs": [],
   "source": [
    "import pandas as pd\n",
    "import numpy as np\n",
    "\n",
    "# Visualização\n",
    "import plotly.graph_objects as go\n",
    "from plotly.colors import n_colors\n",
    "import plotly.express as px\n",
    "import plotly.offline as pyo\n",
    "pyo.init_notebook_mode()\n",
    "\n",
    "# Correlação\n",
    "import association_metrics as am\n",
    "\n",
    "# Processamento\n",
    "from sklearn.preprocessing import MinMaxScaler\n",
    "\n",
    "# Separação\n",
    "from sklearn.model_selection import train_test_split\n",
    "\n",
    "# Modelos para classificação\n",
    "from sklearn.naive_bayes import MultinomialNB\n",
    "from sklearn.linear_model import LogisticRegression\n",
    "from sklearn.ensemble import RandomForestClassifier\n",
    "from sklearn.svm import LinearSVC\n",
    "\n",
    "# Afinamento\n",
    "from sklearn.calibration import CalibratedClassifierCV\n",
    "from sklearn.model_selection import GridSearchCV\n",
    "from sklearn.pipeline import Pipeline\n",
    "\n",
    "# Avaliação de modelos\n",
    "from sklearn import metrics\n",
    "from sklearn.metrics import confusion_matrix\n",
    "from sklearn.model_selection import cross_val_score"
   ]
  },
  {
   "cell_type": "code",
   "execution_count": null,
   "metadata": {},
   "outputs": [],
   "source": [
    "df = pd.read_csv('cancellation-prediction.csv')"
   ]
  },
  {
   "cell_type": "markdown",
   "metadata": {},
   "source": [
    "## Análise Exploratória"
   ]
  },
  {
   "cell_type": "code",
   "execution_count": null,
   "metadata": {},
   "outputs": [],
   "source": [
    "df.shape"
   ]
  },
  {
   "cell_type": "code",
   "execution_count": null,
   "metadata": {},
   "outputs": [],
   "source": [
    "df.columns"
   ]
  },
  {
   "cell_type": "code",
   "execution_count": null,
   "metadata": {},
   "outputs": [],
   "source": [
    "df.isna().sum()"
   ]
  },
  {
   "cell_type": "markdown",
   "metadata": {},
   "source": [
    "Para lidar com os valores nulos, será atribuído 0 aos registros que não possuem quantidade de crianças (coluna *num_children*). Em relação aos nulos da coluna país, será avaliada a necessidade dessa informação antes de descartar esses registros."
   ]
  },
  {
   "cell_type": "code",
   "execution_count": null,
   "metadata": {},
   "outputs": [],
   "source": [
    "df['num_children'] = df['num_children'].fillna(0)"
   ]
  },
  {
   "cell_type": "code",
   "execution_count": null,
   "metadata": {},
   "outputs": [],
   "source": [
    "df.head()"
   ]
  },
  {
   "cell_type": "code",
   "execution_count": null,
   "metadata": {},
   "outputs": [],
   "source": [
    "# Listagem de colunas numéricas\n",
    "nums = [\n",
    "    'days_between_booking_arrival', 'changes_between_booking_arrival',\n",
    "    'num_adults', 'num_children', 'num_babies', 'num_weekend_nights',\n",
    "    'num_workweek_nights', 'num_previous_cancellations', 'num_previous_stays',\n",
    "    'required_car_parking_spaces', 'total_of_special_requests', 'avg_price',\n",
    "]\n",
    "\n",
    "df[nums] = df[nums].astype(float)"
   ]
  },
  {
   "cell_type": "code",
   "execution_count": null,
   "metadata": {},
   "outputs": [],
   "source": [
    "# Listagem de colunas nominais\n",
    "noms = [\n",
    "    'cancellation', 'type', 'year_arrival_date', 'month_arrival_date',\n",
    "    'week_number_arrival_date', 'day_of_month_arrival_date', 'deposit_policy',\n",
    "    'country', 'breakfast', 'market_segment', 'distribution_channel',\n",
    "    'customer_type'\n",
    "]"
   ]
  },
  {
   "cell_type": "code",
   "execution_count": null,
   "metadata": {
    "scrolled": true
   },
   "outputs": [],
   "source": [
    "df[nums].describe()"
   ]
  },
  {
   "cell_type": "markdown",
   "metadata": {},
   "source": [
    "    (antes de construir os gráficos interativos, eu montei uma paleta personalizada com algumas cores do site da DHAUZ.     Fiquem à vontade para anotar os códigos hexadecimais 😉)"
   ]
  },
  {
   "cell_type": "code",
   "execution_count": null,
   "metadata": {},
   "outputs": [],
   "source": [
    "# Paleta com as cores da DHAUZ\n",
    "paleta_dhauz = [\n",
    "   '#7b3afa','#4e28a0','#efeef2','#17e5fd', '#a478fc', '#42d0e1', '#46405f'\n",
    "]"
   ]
  },
  {
   "cell_type": "code",
   "execution_count": null,
   "metadata": {},
   "outputs": [],
   "source": [
    "fig = px.pie(df,\n",
    "             names='cancellation',\n",
    "             color_discrete_sequence=paleta_dhauz,\n",
    "             hole=.3,\n",
    "             template='ggplot2')\n",
    "\n",
    "fig.update_layout(title='Contagem de cancelamentos', showlegend=False)\n",
    "\n",
    "fig.update_traces(textinfo='value+percent+label',\n",
    "                  marker=dict(line=dict(color='white', width=3)))\n",
    "\n",
    "fig.show()"
   ]
  },
  {
   "cell_type": "markdown",
   "metadata": {},
   "source": [
    "Ao analisar o gráfico acima, percebe-se que o dataset é desbalanceado. O rótulo 0 (não cancelou) está muito mais presente no conjunto."
   ]
  },
  {
   "cell_type": "markdown",
   "metadata": {},
   "source": [
    "### Correlações"
   ]
  },
  {
   "cell_type": "markdown",
   "metadata": {},
   "source": [
    "#### Correlações nominais"
   ]
  },
  {
   "cell_type": "markdown",
   "metadata": {},
   "source": [
    "Para analisar a correlação entre as variáveis nominais do conjunto, será utilizado o método *Cramér's-V* ($φc$). Como ressalva, é importante lembrar que esta fórumula apresenta um problema de simetria, que se resume ao fato de que uma variável x pode explicar y, mas não o contrário. Informações que expliquem por outra perspectiva como duas variáveis se relacionam podem ser perdidas devido à este problema, portanto analisar a correlação entre variáveis nominais através de outros métodos (como *Theil's U*) também é interessante, mas por fins práticos será aplicado o *Cramér's-V*."
   ]
  },
  {
   "cell_type": "code",
   "execution_count": null,
   "metadata": {},
   "outputs": [],
   "source": [
    "df_corr = df[noms][:]\n",
    "\n",
    "df_corr = df_corr.dropna(subset='country')\n",
    "\n",
    "df_corr = df_corr.apply(lambda x: pd.factorize(x)[0])\n",
    "\n",
    "df_corr = df_corr.apply(lambda x: x.astype('str'))\n",
    "\n",
    "df_corr = df_corr.apply(lambda x: x.astype(\"category\")\n",
    "                        if x.dtype == \"O\" else x)"
   ]
  },
  {
   "cell_type": "code",
   "execution_count": null,
   "metadata": {},
   "outputs": [],
   "source": [
    "cramers_v = am.CramersV(df_corr)"
   ]
  },
  {
   "cell_type": "code",
   "execution_count": null,
   "metadata": {},
   "outputs": [],
   "source": [
    "cfit = cramers_v.fit().round(2)"
   ]
  },
  {
   "cell_type": "code",
   "execution_count": null,
   "metadata": {},
   "outputs": [],
   "source": [
    "fig = px.imshow(cfit,\n",
    "                text_auto=True,\n",
    "                aspect='auto',\n",
    "                color_continuous_scale=px.colors.sequential.dense)\n",
    "\n",
    "fig.update_layout(title='Matriz de correlação nominal (Cramérs V)')\n",
    "\n",
    "fig.show()"
   ]
  },
  {
   "cell_type": "markdown",
   "metadata": {},
   "source": [
    "Pode-se notar que certas informações possuem forte correlação com a variável de cancelamento. A que mais chama atenção é a *deposit_policy* (0.48), o que intuitivamente faz sentido, tendo em vista que esta variável provavlmente rege as normas de cancelamento e estorno. Qualquer variável apresentando correlação acima de 0.11 será testada nos modelos preditivos, com exceção da *distribution_channel*, que por ser bem explicada pela *market_segment*, teria um uso redundante."
   ]
  },
  {
   "cell_type": "code",
   "execution_count": null,
   "metadata": {},
   "outputs": [],
   "source": [
    "nom_vars = list(cfit['cancellation'][1:].loc[lambda x: x > 0.11].index)"
   ]
  },
  {
   "cell_type": "code",
   "execution_count": null,
   "metadata": {},
   "outputs": [],
   "source": [
    "nom_vars.remove('distribution_channel')"
   ]
  },
  {
   "cell_type": "code",
   "execution_count": null,
   "metadata": {},
   "outputs": [],
   "source": [
    "nom_vars"
   ]
  },
  {
   "cell_type": "markdown",
   "metadata": {},
   "source": [
    "#### Correlação entre variável nominal x numéricas"
   ]
  },
  {
   "cell_type": "markdown",
   "metadata": {},
   "source": [
    "Já para medir a correlação entre a nossa variável de interesse e as outras variáveis numéricas do conjunto, a fórmula *correlation ratio* ($η$) será utilizada. Em sumo, esse método observa como as dispersões estatísticas se comportam em cada categoria. "
   ]
  },
  {
   "cell_type": "code",
   "execution_count": null,
   "metadata": {},
   "outputs": [],
   "source": [
    "def correlation_ratio(categories, measurements):\n",
    "    fcat, _ = pd.factorize(categories)\n",
    "    cat_num = np.max(fcat)+1\n",
    "    y_avg_array = np.zeros(cat_num)\n",
    "    n_array = np.zeros(cat_num)\n",
    "    for i in range(0,cat_num):\n",
    "        cat_measures = measurements[np.argwhere(fcat == i).flatten()]\n",
    "        n_array[i] = len(cat_measures)\n",
    "        y_avg_array[i] = np.average(cat_measures)\n",
    "    y_total_avg = np.sum(np.multiply(y_avg_array,n_array))/np.sum(n_array)\n",
    "    numerator = np.sum(np.multiply(n_array,np.power(np.subtract(y_avg_array,y_total_avg),2)))\n",
    "    denominator = np.sum(np.power(np.subtract(measurements,y_total_avg),2))\n",
    "    if numerator == 0:\n",
    "        eta = 0.0\n",
    "    else:\n",
    "        eta = np.sqrt(numerator/denominator)\n",
    "    return eta.round(2)"
   ]
  },
  {
   "cell_type": "code",
   "execution_count": null,
   "metadata": {},
   "outputs": [],
   "source": [
    "corrs = {}\n",
    "\n",
    "for col in nums:\n",
    "    c = correlation_ratio(df['cancellation'], df[col])\n",
    "    corrs[col] = c"
   ]
  },
  {
   "cell_type": "markdown",
   "metadata": {},
   "source": [
    "A maior correlação observada foi com a variável que contém a informação dos dias faltantes até a reserva (*days_between_booking_arrival*). Como já selecionamos muitas variáveis, apenas as principais (corr >= 0.2) desse grupo serão escolhidas. "
   ]
  },
  {
   "cell_type": "code",
   "execution_count": null,
   "metadata": {},
   "outputs": [],
   "source": [
    "num_vars = [\n",
    "    'days_between_booking_arrival', 'total_of_special_requests',\n",
    "    'required_car_parking_spaces'\n",
    "]"
   ]
  },
  {
   "cell_type": "markdown",
   "metadata": {},
   "source": [
    "Para lidar com os outliers nominais, será removida toda variação de nominais com menos de 130 registros. "
   ]
  },
  {
   "cell_type": "code",
   "execution_count": null,
   "metadata": {},
   "outputs": [],
   "source": [
    "df = df.dropna(subset=['country'])"
   ]
  },
  {
   "cell_type": "code",
   "execution_count": null,
   "metadata": {},
   "outputs": [],
   "source": [
    "for col in nom_vars:\n",
    "    counts = df[col].value_counts().loc[lambda x: x > 130].index\n",
    "    df = df.loc[df[col].isin(counts)][:]"
   ]
  },
  {
   "cell_type": "markdown",
   "metadata": {},
   "source": [
    "### Analisando as variáveis"
   ]
  },
  {
   "cell_type": "markdown",
   "metadata": {},
   "source": [
    "#### Segmento de mercado"
   ]
  },
  {
   "cell_type": "code",
   "execution_count": null,
   "metadata": {},
   "outputs": [],
   "source": [
    "fig = px.histogram(df,\n",
    "                   x='market_segment',\n",
    "                   color='market_segment',\n",
    "                   color_discrete_sequence=paleta_dhauz,\n",
    "                   template='plotly_white')\n",
    "\n",
    "fig.update_layout(title='Distribuição dos segmentos de mercado', showlegend=False)\n",
    "\n",
    "fig.update_xaxes(type='category')\n",
    "\n",
    "fig.show()"
   ]
  },
  {
   "cell_type": "code",
   "execution_count": null,
   "metadata": {},
   "outputs": [],
   "source": [
    "fig = px.histogram(df,\n",
    "                   x='market_segment',\n",
    "                   color='cancellation',\n",
    "                   barnorm='percent',\n",
    "                   text_auto='.2f',\n",
    "                   color_discrete_sequence=paleta_dhauz[::-1],\n",
    "                   template='plotly_white')\n",
    "\n",
    "fig.update_layout(title='Taxa de cancelamento por segmento de mercado',\n",
    "                  bargap=0.2)\n",
    "\n",
    "fig.update_yaxes(ticksuffix=\"%\")\n",
    "\n",
    "fig.update_xaxes(type='category')\n",
    "\n",
    "fig.show()"
   ]
  },
  {
   "cell_type": "markdown",
   "metadata": {},
   "source": [
    "Ao analisar os segmentos de mercado, fica evidente que entre alguns deles há uma grande variação das taxas de cancelamento. A diferença entre o mínimo (38,41%) e o máximo (87,72%) é de quase 50%. Pode-se afirmar que essa variável ajuda bastante a explicar o cancelamento, uma vez que a probabilidade de uma reserva ser cancelada no segmento 5 é muito maior do que no segmento 4, por exemplo. "
   ]
  },
  {
   "cell_type": "markdown",
   "metadata": {},
   "source": [
    "#### Política de depósito (ou reembolso)"
   ]
  },
  {
   "cell_type": "code",
   "execution_count": null,
   "metadata": {},
   "outputs": [],
   "source": [
    "fig = px.histogram(df,\n",
    "                   x='deposit_policy',\n",
    "                   color='cancellation',\n",
    "                   barnorm='percent',\n",
    "                   text_auto='.2f',\n",
    "                   color_discrete_sequence=paleta_dhauz[::-1],\n",
    "                   template='plotly_white')\n",
    "\n",
    "fig.update_layout(title='Taxa de cancelamento por política de depósito',\n",
    "                  bargap=0.2)\n",
    "\n",
    "fig.update_yaxes(ticksuffix=\"%\")\n",
    "\n",
    "fig.show()"
   ]
  },
  {
   "cell_type": "code",
   "execution_count": null,
   "metadata": {},
   "outputs": [],
   "source": [
    "fig = px.histogram(df,\n",
    "                   x='deposit_policy',\n",
    "                   color='deposit_policy',\n",
    "                   color_discrete_sequence=paleta_dhauz,\n",
    "                   template='plotly_white')\n",
    "\n",
    "fig.update_layout(title='Distribuição das políticas de depósito', showlegend=False)\n",
    "\n",
    "fig.update_xaxes(type='category')\n",
    "\n",
    "fig.show()"
   ]
  },
  {
   "cell_type": "code",
   "execution_count": null,
   "metadata": {},
   "outputs": [],
   "source": [
    "canceladas = df['deposit_policy'].loc[df['cancellation']==1]\n",
    "print('Porcentagem das políticas de depósito para reservas canceladas:')\n",
    "print(round(canceladas.value_counts()/len(canceladas)*100, 2))"
   ]
  },
  {
   "cell_type": "markdown",
   "metadata": {},
   "source": [
    "Algo interessante a se observar nos gráficos de barras acima é que dentre as reservas que exigiam depósito (~11,8%), quase 100% não garantia reembolso e praticamente todas foram canceladas. Além do mais, na parcela fracionária de depósitos com direito a reembolso, a maioria (80%) não cancelou. Tendo dito isso, a maioria dos cancelamentos (68,4%) não exigia depósito."
   ]
  },
  {
   "cell_type": "markdown",
   "metadata": {},
   "source": [
    "#### País"
   ]
  },
  {
   "cell_type": "code",
   "execution_count": null,
   "metadata": {},
   "outputs": [],
   "source": [
    "fig = px.histogram(df,\n",
    "                   x='country',\n",
    "                   histnorm='percent',\n",
    "                   color_discrete_sequence=paleta_dhauz[::-1],\n",
    "                   template='plotly_white')\n",
    "\n",
    "fig.update_layout(title='Distribuição dos países',\n",
    "                  bargap=0.2)\n",
    "\n",
    "fig.update_yaxes(ticksuffix=\"%\")\n",
    "fig.update_xaxes(categoryorder='total descending')\n",
    "\n",
    "fig.show()"
   ]
  },
  {
   "cell_type": "markdown",
   "metadata": {},
   "source": [
    "Pode-se notar que existe um código ISO com 2 letras correspondente a China (CN). Essa variação será normalizada para corresponder ao código ISO da China de 3 letras (CHN) "
   ]
  },
  {
   "cell_type": "code",
   "execution_count": null,
   "metadata": {},
   "outputs": [],
   "source": [
    "df.loc[df['country']=='CN', 'country'] = 'CHN'"
   ]
  },
  {
   "cell_type": "code",
   "execution_count": null,
   "metadata": {},
   "outputs": [],
   "source": [
    "fig = px.histogram(df,\n",
    "                   x='country',\n",
    "                   color='cancellation',\n",
    "                   barmode='overlay',\n",
    "                   histnorm='percent',\n",
    "                   text_auto='.2f',\n",
    "                   color_discrete_sequence=paleta_dhauz[::-1],\n",
    "                   template='plotly_white')\n",
    "\n",
    "fig.update_layout(title='Categorias distribuídas por país',\n",
    "                  bargap=0.2)\n",
    "\n",
    "fig.update_yaxes(ticksuffix=\"%\")\n",
    "\n",
    "fig.show()"
   ]
  },
  {
   "cell_type": "code",
   "execution_count": null,
   "metadata": {
    "code_folding": []
   },
   "outputs": [],
   "source": [
    "fig = px.histogram(df,\n",
    "                   x='country',\n",
    "                   color='cancellation',\n",
    "                   barnorm='percent',\n",
    "                   text_auto='.2f',\n",
    "                   color_discrete_sequence=paleta_dhauz[::-1],\n",
    "                   template='plotly_white')\n",
    "\n",
    "fig.update_layout(title='Taxa de cancelamento por país',\n",
    "                  bargap=0.2)\n",
    "\n",
    "fig.update_yaxes(ticksuffix=\"%\")\n",
    "\n",
    "fig.show()"
   ]
  },
  {
   "cell_type": "code",
   "execution_count": null,
   "metadata": {},
   "outputs": [],
   "source": [
    "fig = px.histogram(df,\n",
    "                   x='country',\n",
    "                   color='deposit_policy',\n",
    "                   barnorm='percent',\n",
    "                   text_auto='.2f',\n",
    "                   color_discrete_sequence=paleta_dhauz[::-1],\n",
    "                   template='plotly_white')\n",
    "\n",
    "fig.update_layout(title='Proporção de políticas de depósito por país',\n",
    "                  bargap=0.2)\n",
    "\n",
    "fig.update_yaxes(ticksuffix=\"%\")\n",
    "\n",
    "fig.show()"
   ]
  },
  {
   "cell_type": "markdown",
   "metadata": {},
   "source": [
    "A maioria das reservas (41,25%) está concentrada em Portugal, assim como a grande maioria dos cancelamentos (62,25%). Inclsuive, o país em questão possui a segunda maior taxa de cancelamento, que é bem alta quando comparada às outras. Além do mais, ao analisar a proporção de políticas de depósito de cada país, pode-se notar uma alta bastante atípica de políticas de não-reembolso em Portugal, indicando que esse tipo de regra seja mais comum nos hotéis do país."
   ]
  },
  {
   "cell_type": "markdown",
   "metadata": {},
   "source": [
    "#### Antecedência do cancelamento"
   ]
  },
  {
   "cell_type": "code",
   "execution_count": null,
   "metadata": {},
   "outputs": [],
   "source": [
    "fig = px.histogram(df.loc[df['cancellation']==1],\n",
    "                   x='days_between_booking_arrival',\n",
    "                   barmode='overlay',\n",
    "                   color_discrete_sequence=paleta_dhauz,\n",
    "                   nbins=600,\n",
    "                   template='plotly_white')\n",
    "\n",
    "fig.update_layout(title='Distribuição da antecedência de reservas canceladas',\n",
    "                  bargap=0.1)\n",
    "\n",
    "fig.show()"
   ]
  },
  {
   "cell_type": "markdown",
   "metadata": {},
   "source": [
    "Ao analisar a distribuição da antecedência de cancelamento acima, podemos notar que muito cancelamentos são feitos no mesmo dia ou próximos à reserva, e quanto maior a antecedência, menor a chance da reserva ser cancelada. Para remover os outliers (antecedências muito grandes) será utilizado o quantil 95% da variável em questão. "
   ]
  },
  {
   "cell_type": "code",
   "execution_count": null,
   "metadata": {},
   "outputs": [],
   "source": [
    "q95 = df['days_between_booking_arrival'].quantile(0.95)\n",
    "q95"
   ]
  },
  {
   "cell_type": "code",
   "execution_count": null,
   "metadata": {},
   "outputs": [],
   "source": [
    "df = df.loc[df['days_between_booking_arrival']<=q95]"
   ]
  },
  {
   "cell_type": "markdown",
   "metadata": {},
   "source": [
    "#### Pedidos especiais"
   ]
  },
  {
   "cell_type": "code",
   "execution_count": null,
   "metadata": {},
   "outputs": [],
   "source": [
    "fig = px.histogram(df,\n",
    "                   x='total_of_special_requests',\n",
    "                   color='cancellation',\n",
    "                   barmode='overlay',\n",
    "                   color_discrete_sequence=paleta_dhauz,\n",
    "                   template='plotly_white')\n",
    "\n",
    "fig.update_layout(title='Taxa de cancelamento por número de pedidos especiais',\n",
    "                  bargap=0.2)\n",
    "\n",
    "fig.show()"
   ]
  },
  {
   "cell_type": "markdown",
   "metadata": {},
   "source": [
    "De acordo com o gráfico de barras acima, reservas com pedidos especiais possuem muito menos chance de serem canceladas."
   ]
  },
  {
   "cell_type": "markdown",
   "metadata": {},
   "source": [
    "#### Vagas de carro"
   ]
  },
  {
   "cell_type": "code",
   "execution_count": null,
   "metadata": {},
   "outputs": [],
   "source": [
    "fig = px.histogram(df,\n",
    "                   x='required_car_parking_spaces',\n",
    "                   color='cancellation',\n",
    "                   barmode='overlay',\n",
    "                   color_discrete_sequence=paleta_dhauz,\n",
    "                   template='plotly_white')\n",
    "\n",
    "fig.update_layout(title='Taxa de cancelamento por exigência de vaga de carro',\n",
    "                  bargap=0.2)\n",
    "\n",
    "fig.show()"
   ]
  },
  {
   "cell_type": "markdown",
   "metadata": {},
   "source": [
    "Segundo a distribuição acima, como os cancelamentos foram feitos apenas por reservas que não exigiam vaga de carro, a variável em questão pode ser resumida em uma boleana para explicar as reservas canceladas. "
   ]
  },
  {
   "cell_type": "code",
   "execution_count": null,
   "metadata": {},
   "outputs": [],
   "source": [
    "df['bool_requires_car_parking_spaces'] = 0\n",
    "df.loc[df['required_car_parking_spaces'] > 0, 'bool_requires_car_parking_spaces'] = 1\n",
    "\n",
    "nom_vars.append('bool_requires_car_parking_spaces')\n",
    "num_vars.remove('required_car_parking_spaces')"
   ]
  },
  {
   "cell_type": "markdown",
   "metadata": {},
   "source": [
    "## Desenvolvimento de modelos"
   ]
  },
  {
   "cell_type": "markdown",
   "metadata": {},
   "source": [
    "As seguintes variáveis serão utilizadas para teinar os classificadores:"
   ]
  },
  {
   "cell_type": "code",
   "execution_count": null,
   "metadata": {},
   "outputs": [],
   "source": [
    "print(nom_vars+num_vars)"
   ]
  },
  {
   "cell_type": "code",
   "execution_count": null,
   "metadata": {},
   "outputs": [],
   "source": [
    "X = df[nom_vars + num_vars]\n",
    "\n",
    "X = pd.get_dummies(X, columns=nom_vars)"
   ]
  },
  {
   "cell_type": "code",
   "execution_count": null,
   "metadata": {},
   "outputs": [],
   "source": [
    "scaler = MinMaxScaler()\n",
    "X[num_vars] = scaler.fit_transform(X[num_vars])"
   ]
  },
  {
   "cell_type": "code",
   "execution_count": null,
   "metadata": {},
   "outputs": [],
   "source": [
    "y = df['cancellation']\n",
    "\n",
    "X_train, X_test, y_train, y_test = train_test_split(X,\n",
    "                                                    y,\n",
    "                                                    test_size=0.2,\n",
    "                                                    random_state=0)"
   ]
  },
  {
   "cell_type": "code",
   "execution_count": null,
   "metadata": {},
   "outputs": [],
   "source": [
    "print('Tamanho dos conjuntos\\n', '\\nTreino:', len(X_train), '\\nTeste:', len(X_test))"
   ]
  },
  {
   "cell_type": "markdown",
   "metadata": {},
   "source": [
    "### Seleção"
   ]
  },
  {
   "cell_type": "markdown",
   "metadata": {},
   "source": [
    "Após processar e separar o conjunto entre teste e treino, os algoritmos de classificação da lista a seguir foram selecionados para fase de teste. Nesta fase, o processo de validação cruzada é aplicado e o algoritmo com melhores resultados é selecionado. "
   ]
  },
  {
   "cell_type": "code",
   "execution_count": null,
   "metadata": {},
   "outputs": [],
   "source": [
    "# Lista com os algoritmos a serem testados\n",
    "models = [\n",
    "    RandomForestClassifier(random_state=0),\n",
    "    LinearSVC(random_state=0, class_weight='balanced'),\n",
    "    MultinomialNB(),\n",
    "    LogisticRegression(random_state=0, class_weight='balanced', max_iter=3000),\n",
    "]\n",
    "\n",
    "CV = 5\n",
    "cv_df = pd.DataFrame(index=range(CV * len(models)))\n",
    "entries = []\n",
    "\n",
    "for model in models:\n",
    "  model_name = model.__class__.__name__\n",
    "  accuracies = cross_val_score(model, X, y, scoring='accuracy', cv=CV)    # cross validation\n",
    "  for fold_idx, accuracy in enumerate(accuracies):\n",
    "    entries.append((model_name, fold_idx, accuracy))\n",
    "\n",
    "cv_df = pd.DataFrame(entries, columns=['model_name', 'fold_idx', 'accuracy'])"
   ]
  },
  {
   "cell_type": "code",
   "execution_count": null,
   "metadata": {},
   "outputs": [],
   "source": [
    "cv_df['accuracy'] = cv_df['accuracy'].round(2)"
   ]
  },
  {
   "cell_type": "code",
   "execution_count": null,
   "metadata": {},
   "outputs": [],
   "source": [
    "fig = px.line(cv_df,\n",
    "              y='model_name',\n",
    "              text='accuracy',\n",
    "              x='accuracy',\n",
    "              color='model_name',\n",
    "              color_discrete_sequence=paleta_dhauz,\n",
    "              template='plotly_white')\n",
    "\n",
    "fig.update_yaxes(type='category', showgrid=False)\n",
    "fig.update_xaxes(showgrid=False)\n",
    "fig.update_layout(title='Comparação de acurária dos modelos')\n",
    "fig.update_traces(textposition=\"top center\")\n",
    "\n",
    "fig.show()"
   ]
  },
  {
   "cell_type": "markdown",
   "metadata": {},
   "source": [
    "De modo geral, percebe-se que os algoritmos produziram resultados parecidos. Tanto o SVC Linear quanto a Regressão Logística foram considerados para modelar nossa variável, uma vez que ambos apresentaram boas acurácias com baixa variabilidade. Falando um pouco sobre eles, uma diferença entre esses dois algoritmos reside em suas abordagens – enquanto o SVC Linear se baseia em propriedades geométricas dos dados e tenta maximizar a margem (vetor de suporte) entre as variáveis das classes, a Regressão Logística tem como base uma abordagem estatística e busca otimizar a probabilidade posterior da classe. Nesta case, o *LinearSVC* foi escolhido para seguir com a modelagem."
   ]
  },
  {
   "cell_type": "markdown",
   "metadata": {},
   "source": [
    "### Afinamento"
   ]
  },
  {
   "cell_type": "markdown",
   "metadata": {},
   "source": [
    "A técnica *GridSerchCV* será utilizada para afinar os hiperparâmetros. Este método também utiliza a validação cruzada para testar as combinações de hiperparâmetros, que inclusive serão poucas para essa case em específico. "
   ]
  },
  {
   "cell_type": "code",
   "execution_count": null,
   "metadata": {},
   "outputs": [],
   "source": [
    "params = {\n",
    "    'C': [1, 0.6, 0.2, 0.01],\n",
    "    'fit_intercept': [True, False],\n",
    "}\n",
    "\n",
    "svc = LinearSVC(random_state=0, class_weight='balanced')\n",
    "\n",
    "clf = GridSearchCV(svc, params, cv=5, verbose=True, n_jobs=-1)\n",
    "\n",
    "clf = clf.fit(X, y)"
   ]
  },
  {
   "cell_type": "code",
   "execution_count": null,
   "metadata": {},
   "outputs": [],
   "source": [
    "clf.best_params_"
   ]
  },
  {
   "cell_type": "code",
   "execution_count": null,
   "metadata": {},
   "outputs": [],
   "source": [
    "y_pred = clf.predict(X_test)"
   ]
  },
  {
   "cell_type": "markdown",
   "metadata": {},
   "source": [
    "### Avaliação"
   ]
  },
  {
   "cell_type": "code",
   "execution_count": null,
   "metadata": {},
   "outputs": [],
   "source": [
    "cm = confusion_matrix(y_test, y_pred)\n",
    "\n",
    "fig = px.imshow(cm,\n",
    "                text_auto=True,\n",
    "                color_continuous_scale=px.colors.sequential.Purples,\n",
    "                title='Matriz de confusão')\n",
    "\n",
    "fig.update_layout(yaxis={'title':'Reais'}, \n",
    "                  xaxis={'title':'Previstos'},\n",
    "                  coloraxis_showscale=False, \n",
    "                  font_size=10,\n",
    "                  height=700)\n",
    "\n",
    "fig.update_xaxes(dtick=1)\n",
    "fig.update_yaxes(dtick=1)\n",
    "\n",
    "fig.show()"
   ]
  },
  {
   "cell_type": "code",
   "execution_count": null,
   "metadata": {},
   "outputs": [],
   "source": [
    "print(metrics.classification_report(y_test, y_pred))"
   ]
  },
  {
   "cell_type": "markdown",
   "metadata": {},
   "source": [
    "Ao avaliar o desempenho do modelo, percebe-se que a sua habilidade em classificar reservas que não serão canceladas é maior. Tendo dito isso, o algoritmo conseguiu prever 73% dos cancelamentos no conjunto de teste. Não podemos afirmar que os custos (erros) do modelo para o problema em questão são de natureza muito séria, mas o principal deles é o falso negativo, que representa justamente reservas que foram canceladas sendo que o modelo classificou o contrário. Algo interessante a se estimar é o quanto esses erros estariam custando para a empresa (em termos de diárias perdidas). Por fim, por mais que existam maneiras de atribuir probabilidade às classificações do SVC Linear, ele é essencialmente determinístico e a perspectiva probabilística dos resultados não será explorada nesta case."
   ]
  },
  {
   "cell_type": "markdown",
   "metadata": {},
   "source": [
    "### Variando o conjunto de treino/teste"
   ]
  },
  {
   "cell_type": "markdown",
   "metadata": {},
   "source": [
    "Seguindo a sugestão da case, os dados de 2016 serão utilizados para treinar o modelo e os de 2017 para testá-lo. "
   ]
  },
  {
   "cell_type": "code",
   "execution_count": null,
   "metadata": {},
   "outputs": [],
   "source": [
    "X = df.copy()\n",
    "\n",
    "scaler = MinMaxScaler()\n",
    "X[num_vars] = scaler.fit_transform(X[num_vars])\n",
    "\n",
    "train = X.loc[X['year_arrival_date']==2016]\n",
    "test = X.loc[X['year_arrival_date']==2017]\n",
    "\n",
    "X_train = pd.get_dummies(train[nom_vars + num_vars], columns=nom_vars)\n",
    "y_train = train['cancellation']\n",
    "\n",
    "X_test = pd.get_dummies(test[nom_vars + num_vars], columns=nom_vars)\n",
    "y_test = test['cancellation']"
   ]
  },
  {
   "cell_type": "code",
   "execution_count": null,
   "metadata": {},
   "outputs": [],
   "source": [
    "clf = LinearSVC(random_state=0, C=0.01, fit_intercept=True, class_weight='balanced')"
   ]
  },
  {
   "cell_type": "code",
   "execution_count": null,
   "metadata": {},
   "outputs": [],
   "source": [
    "clf = clf.fit(X_train, y_train)"
   ]
  },
  {
   "cell_type": "code",
   "execution_count": null,
   "metadata": {},
   "outputs": [],
   "source": [
    "y_pred = clf.predict(X_test)"
   ]
  },
  {
   "cell_type": "code",
   "execution_count": null,
   "metadata": {},
   "outputs": [],
   "source": [
    "cm = confusion_matrix(y_test, y_pred)\n",
    "\n",
    "fig = px.imshow(cm,\n",
    "                text_auto=True,\n",
    "                color_continuous_scale=px.colors.sequential.Purples,\n",
    "                title='Matriz de confusão')\n",
    "\n",
    "fig.update_layout(yaxis={'title':'Reais'}, \n",
    "                  xaxis={'title':'Previstos'},\n",
    "                  coloraxis_showscale=False, \n",
    "                  font_size=10,\n",
    "                  height=700)\n",
    "\n",
    "fig.update_xaxes(dtick=1)\n",
    "fig.update_yaxes(dtick=1)\n",
    "\n",
    "fig.show()"
   ]
  },
  {
   "cell_type": "code",
   "execution_count": null,
   "metadata": {},
   "outputs": [],
   "source": [
    "print(metrics.classification_report(y_test, y_pred))"
   ]
  },
  {
   "cell_type": "markdown",
   "metadata": {},
   "source": [
    "A principal razão que eu consigo pensar para se fazer tal separação seria se caso alguma variável temporal do conjunto apresentasse algum tipo de **sazonalidade** anual que explicasse o cancelamento das reservas. Desta maneira, tal sazonalidade permaneceria íntegra durante os processos de treinamento e teste. <br>\n",
    "Além do mais, como o conjunto se trata de um conjunto desbalanceado, outra razão válida que pode explicar esse tipo de separação seria o princípio da técnica **filtro de domínio**, que consiste em segmentar os dados para um domínio em específico (como um ano ou tipo de hotel X), a fim de obter amostras mais balanceadas que não violem nenhum princípio de amostragem. <br>\n",
    "Tendo dito isto, a separação aleatória anterior expressou resultados ligeiramente melhores e a minha indicação é permanecer com ela. "
   ]
  }
 ],
 "metadata": {
  "hide_input": false,
  "kernelspec": {
   "display_name": "Python 3 (ipykernel)",
   "language": "python",
   "name": "python3"
  },
  "language_info": {
   "codemirror_mode": {
    "name": "ipython",
    "version": 3
   },
   "file_extension": ".py",
   "mimetype": "text/x-python",
   "name": "python",
   "nbconvert_exporter": "python",
   "pygments_lexer": "ipython3",
   "version": "3.8.5"
  },
  "toc": {
   "base_numbering": 1,
   "nav_menu": {},
   "number_sections": true,
   "sideBar": true,
   "skip_h1_title": false,
   "title_cell": "Table of Contents",
   "title_sidebar": "Contents",
   "toc_cell": false,
   "toc_position": {
    "height": "calc(100% - 180px)",
    "left": "10px",
    "top": "150px",
    "width": "295.038px"
   },
   "toc_section_display": true,
   "toc_window_display": false
  },
  "varInspector": {
   "cols": {
    "lenName": 16,
    "lenType": 16,
    "lenVar": 40
   },
   "kernels_config": {
    "python": {
     "delete_cmd_postfix": "",
     "delete_cmd_prefix": "del ",
     "library": "var_list.py",
     "varRefreshCmd": "print(var_dic_list())"
    },
    "r": {
     "delete_cmd_postfix": ") ",
     "delete_cmd_prefix": "rm(",
     "library": "var_list.r",
     "varRefreshCmd": "cat(var_dic_list()) "
    }
   },
   "types_to_exclude": [
    "module",
    "function",
    "builtin_function_or_method",
    "instance",
    "_Feature"
   ],
   "window_display": false
  }
 },
 "nbformat": 4,
 "nbformat_minor": 4
}
